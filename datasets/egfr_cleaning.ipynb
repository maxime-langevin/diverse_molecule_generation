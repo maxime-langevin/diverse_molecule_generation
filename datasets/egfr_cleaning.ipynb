{
 "cells": [
  {
   "cell_type": "markdown",
   "metadata": {},
   "source": [
    "### Cleaning of the EGFR dataset extracted from Excape db. \n"
   ]
  },
  {
   "cell_type": "code",
   "execution_count": 1,
   "metadata": {},
   "outputs": [
    {
     "name": "stderr",
     "output_type": "stream",
     "text": [
      "/cloud-home/FR24516/.magellan/conda/envs/env_preproc_pipeline_14/lib/python3.12/site-packages/tqdm/auto.py:21: TqdmWarning: IProgress not found. Please update jupyter and ipywidgets. See https://ipywidgets.readthedocs.io/en/stable/user_install.html\n",
      "  from .autonotebook import tqdm as notebook_tqdm\n"
     ]
    }
   ],
   "source": [
    "# importing libraries\n",
    "\n",
    "import pandas as pd\n",
    "from rdkit import Chem\n",
    "from rdkit.Chem import PandasTools\n",
    "import useful_rdkit_utils as uru\n",
    "from collections import Counter"
   ]
  },
  {
   "cell_type": "code",
   "execution_count": 2,
   "metadata": {},
   "outputs": [],
   "source": [
    "ro5_calc = uru.Ro5Calculator()"
   ]
  },
  {
   "cell_type": "code",
   "execution_count": 3,
   "metadata": {},
   "outputs": [],
   "source": [
    "# provide path\n",
    "path = './raw/EGFR_actives_from_Excape.csv'\n",
    "df = pd.read_csv(path)"
   ]
  },
  {
   "cell_type": "code",
   "execution_count": 4,
   "metadata": {},
   "outputs": [
    {
     "name": "stdout",
     "output_type": "stream",
     "text": [
      "<class 'pandas.core.frame.DataFrame'>\n",
      "RangeIndex: 5209 entries, 0 to 5208\n",
      "Data columns (total 11 columns):\n",
      " #   Column             Non-Null Count  Dtype  \n",
      "---  ------             --------------  -----  \n",
      " 0   Ambit_InchiKey     5209 non-null   object \n",
      " 1   Original_Entry_ID  5209 non-null   object \n",
      " 2   Entrez_ID          5209 non-null   int64  \n",
      " 3   Activity_Flag      5209 non-null   object \n",
      " 4   pXC50              5186 non-null   float64\n",
      " 5   DB                 5209 non-null   object \n",
      " 6   Original_Assay_ID  5209 non-null   int64  \n",
      " 7   Tax_ID             5209 non-null   int64  \n",
      " 8   Gene_Symbol        5209 non-null   object \n",
      " 9   Ortholog_Group     5209 non-null   int64  \n",
      " 10  SMILES             5209 non-null   object \n",
      "dtypes: float64(1), int64(4), object(6)\n",
      "memory usage: 447.8+ KB\n"
     ]
    }
   ],
   "source": [
    "df.info()"
   ]
  },
  {
   "cell_type": "code",
   "execution_count": 5,
   "metadata": {},
   "outputs": [],
   "source": [
    "df = df[['SMILES','pXC50']]"
   ]
  },
  {
   "cell_type": "code",
   "execution_count": 6,
   "metadata": {},
   "outputs": [],
   "source": [
    "#rename columns\n",
    "df.columns = ['smiles','value']"
   ]
  },
  {
   "cell_type": "code",
   "execution_count": 7,
   "metadata": {},
   "outputs": [
    {
     "data": {
      "text/plain": [
       "smiles     0\n",
       "value     23\n",
       "dtype: int64"
      ]
     },
     "execution_count": 7,
     "metadata": {},
     "output_type": "execute_result"
    }
   ],
   "source": [
    "#check for null values\n",
    "df.isnull().sum()"
   ]
  },
  {
   "cell_type": "code",
   "execution_count": 8,
   "metadata": {},
   "outputs": [],
   "source": [
    "# drop all rows with null values\n",
    "df = df.dropna(axis = 'rows')"
   ]
  },
  {
   "cell_type": "code",
   "execution_count": 9,
   "metadata": {},
   "outputs": [
    {
     "name": "stderr",
     "output_type": "stream",
     "text": [
      "[13:26:33] Explicit valence for atom # 1 N, 4, is greater than permitted\n",
      "[13:26:33] Explicit valence for atom # 1 N, 4, is greater than permitted\n",
      "[13:26:34] Explicit valence for atom # 4 O, 3, is greater than permitted\n",
      "[13:26:34] Explicit valence for atom # 1 N, 4, is greater than permitted\n",
      "[13:26:35] Explicit valence for atom # 1 N, 4, is greater than permitted\n"
     ]
    }
   ],
   "source": [
    "# generate canonical SMILES to double-check for duplicates\n",
    "\n",
    "canonical_smiles = []\n",
    "for s in df.smiles:\n",
    "    try:\n",
    "        c = Chem.MolToSmiles(Chem.MolFromSmiles(s))\n",
    "        canonical_smiles.append(c)\n",
    "    except:\n",
    "        canonical_smiles.append(None)\n"
   ]
  },
  {
   "cell_type": "code",
   "execution_count": 10,
   "metadata": {},
   "outputs": [],
   "source": [
    "df['canonical_smiles'] = canonical_smiles"
   ]
  },
  {
   "cell_type": "code",
   "execution_count": 11,
   "metadata": {},
   "outputs": [],
   "source": [
    "# Perform the necessary steps before checking\n",
    "\n",
    "df_nuniques = df.groupby('canonical_smiles').agg({'smiles' : 'nunique','value': 'nunique'}).reset_index(drop=False)\n",
    "df_first = df.groupby('canonical_smiles').agg({'smiles' : 'first','value': 'unique' }).reset_index(drop=False)\n"
   ]
  },
  {
   "cell_type": "code",
   "execution_count": 12,
   "metadata": {},
   "outputs": [],
   "source": [
    "df_w_info = df_nuniques.merge(df_first[['canonical_smiles','value']], on='canonical_smiles').rename(columns={'value_x' : 'nb_values', 'value_y' : 'values'})"
   ]
  },
  {
   "cell_type": "code",
   "execution_count": 13,
   "metadata": {},
   "outputs": [
    {
     "name": "stdout",
     "output_type": "stream",
     "text": [
      "<class 'pandas.core.frame.DataFrame'>\n",
      "RangeIndex: 5151 entries, 0 to 5150\n",
      "Data columns (total 4 columns):\n",
      " #   Column            Non-Null Count  Dtype \n",
      "---  ------            --------------  ----- \n",
      " 0   canonical_smiles  5151 non-null   object\n",
      " 1   smiles            5151 non-null   int64 \n",
      " 2   nb_values         5151 non-null   int64 \n",
      " 3   values            5151 non-null   object\n",
      "dtypes: int64(2), object(2)\n",
      "memory usage: 161.1+ KB\n"
     ]
    }
   ],
   "source": [
    "df_w_info.info()"
   ]
  },
  {
   "cell_type": "code",
   "execution_count": 14,
   "metadata": {},
   "outputs": [
    {
     "data": {
      "text/html": [
       "<div>\n",
       "<style scoped>\n",
       "    .dataframe tbody tr th:only-of-type {\n",
       "        vertical-align: middle;\n",
       "    }\n",
       "\n",
       "    .dataframe tbody tr th {\n",
       "        vertical-align: top;\n",
       "    }\n",
       "\n",
       "    .dataframe thead th {\n",
       "        text-align: right;\n",
       "    }\n",
       "</style>\n",
       "<table border=\"1\" class=\"dataframe\">\n",
       "  <thead>\n",
       "    <tr style=\"text-align: right;\">\n",
       "      <th></th>\n",
       "      <th>canonical_smiles</th>\n",
       "      <th>smiles</th>\n",
       "      <th>nb_values</th>\n",
       "      <th>values</th>\n",
       "    </tr>\n",
       "  </thead>\n",
       "  <tbody>\n",
       "    <tr>\n",
       "      <th>0</th>\n",
       "      <td>Brc1ccc(C2=NN(c3ccccc3)C(c3ccc4ccccc4c3)C2)cc1</td>\n",
       "      <td>1</td>\n",
       "      <td>1</td>\n",
       "      <td>[6.15]</td>\n",
       "    </tr>\n",
       "    <tr>\n",
       "      <th>1</th>\n",
       "      <td>Brc1ccc(C2=NN(c3ccccc3)C(c3cccc4ccccc34)C2)cc1</td>\n",
       "      <td>1</td>\n",
       "      <td>1</td>\n",
       "      <td>[6.31]</td>\n",
       "    </tr>\n",
       "    <tr>\n",
       "      <th>2</th>\n",
       "      <td>Brc1ccc(C2=NN(c3nc(-c4ccccc4)cs3)C(c3ccc(Br)cc...</td>\n",
       "      <td>1</td>\n",
       "      <td>1</td>\n",
       "      <td>[5.05]</td>\n",
       "    </tr>\n",
       "    <tr>\n",
       "      <th>3</th>\n",
       "      <td>Brc1ccc(CNc2ccc3ncnc(Nc4cccc(Br)c4)c3c2)cc1</td>\n",
       "      <td>1</td>\n",
       "      <td>1</td>\n",
       "      <td>[5.5]</td>\n",
       "    </tr>\n",
       "    <tr>\n",
       "      <th>4</th>\n",
       "      <td>Brc1ccc2[nH]nc(-c3ccccc3)c2c1</td>\n",
       "      <td>1</td>\n",
       "      <td>1</td>\n",
       "      <td>[5.7]</td>\n",
       "    </tr>\n",
       "  </tbody>\n",
       "</table>\n",
       "</div>"
      ],
      "text/plain": [
       "                                    canonical_smiles  smiles  nb_values  \\\n",
       "0     Brc1ccc(C2=NN(c3ccccc3)C(c3ccc4ccccc4c3)C2)cc1       1          1   \n",
       "1     Brc1ccc(C2=NN(c3ccccc3)C(c3cccc4ccccc34)C2)cc1       1          1   \n",
       "2  Brc1ccc(C2=NN(c3nc(-c4ccccc4)cs3)C(c3ccc(Br)cc...       1          1   \n",
       "3        Brc1ccc(CNc2ccc3ncnc(Nc4cccc(Br)c4)c3c2)cc1       1          1   \n",
       "4                      Brc1ccc2[nH]nc(-c3ccccc3)c2c1       1          1   \n",
       "\n",
       "   values  \n",
       "0  [6.15]  \n",
       "1  [6.31]  \n",
       "2  [5.05]  \n",
       "3   [5.5]  \n",
       "4   [5.7]  "
      ]
     },
     "execution_count": 14,
     "metadata": {},
     "output_type": "execute_result"
    }
   ],
   "source": [
    "df_w_info.head()"
   ]
  },
  {
   "cell_type": "code",
   "execution_count": 16,
   "metadata": {},
   "outputs": [],
   "source": [
    "df_w_info[ro5_calc.names] = df_w_info.canonical_smiles.apply(ro5_calc.calc_smiles).to_list()\n"
   ]
  },
  {
   "cell_type": "code",
   "execution_count": 17,
   "metadata": {},
   "outputs": [
    {
     "data": {
      "text/html": [
       "<div>\n",
       "<style scoped>\n",
       "    .dataframe tbody tr th:only-of-type {\n",
       "        vertical-align: middle;\n",
       "    }\n",
       "\n",
       "    .dataframe tbody tr th {\n",
       "        vertical-align: top;\n",
       "    }\n",
       "\n",
       "    .dataframe thead th {\n",
       "        text-align: right;\n",
       "    }\n",
       "</style>\n",
       "<table border=\"1\" class=\"dataframe\">\n",
       "  <thead>\n",
       "    <tr style=\"text-align: right;\">\n",
       "      <th></th>\n",
       "      <th>smiles</th>\n",
       "      <th>nb_values</th>\n",
       "      <th>MolWt</th>\n",
       "      <th>LogP</th>\n",
       "      <th>HBD</th>\n",
       "      <th>HBA</th>\n",
       "      <th>TPSA</th>\n",
       "    </tr>\n",
       "  </thead>\n",
       "  <tbody>\n",
       "    <tr>\n",
       "      <th>count</th>\n",
       "      <td>5151.000000</td>\n",
       "      <td>5151.000000</td>\n",
       "      <td>5151.000000</td>\n",
       "      <td>5151.000000</td>\n",
       "      <td>5151.000000</td>\n",
       "      <td>5151.000000</td>\n",
       "      <td>5151.000000</td>\n",
       "    </tr>\n",
       "    <tr>\n",
       "      <th>mean</th>\n",
       "      <td>1.002912</td>\n",
       "      <td>1.005242</td>\n",
       "      <td>411.290554</td>\n",
       "      <td>4.204393</td>\n",
       "      <td>1.978063</td>\n",
       "      <td>5.807222</td>\n",
       "      <td>84.345156</td>\n",
       "    </tr>\n",
       "    <tr>\n",
       "      <th>std</th>\n",
       "      <td>0.053890</td>\n",
       "      <td>0.072217</td>\n",
       "      <td>103.392853</td>\n",
       "      <td>1.462652</td>\n",
       "      <td>1.127461</td>\n",
       "      <td>2.013140</td>\n",
       "      <td>29.098088</td>\n",
       "    </tr>\n",
       "    <tr>\n",
       "      <th>min</th>\n",
       "      <td>1.000000</td>\n",
       "      <td>1.000000</td>\n",
       "      <td>170.171000</td>\n",
       "      <td>-1.980000</td>\n",
       "      <td>0.000000</td>\n",
       "      <td>0.000000</td>\n",
       "      <td>3.880000</td>\n",
       "    </tr>\n",
       "    <tr>\n",
       "      <th>25%</th>\n",
       "      <td>1.000000</td>\n",
       "      <td>1.000000</td>\n",
       "      <td>339.397000</td>\n",
       "      <td>3.259400</td>\n",
       "      <td>1.000000</td>\n",
       "      <td>4.000000</td>\n",
       "      <td>66.240000</td>\n",
       "    </tr>\n",
       "    <tr>\n",
       "      <th>50%</th>\n",
       "      <td>1.000000</td>\n",
       "      <td>1.000000</td>\n",
       "      <td>402.534000</td>\n",
       "      <td>4.193700</td>\n",
       "      <td>2.000000</td>\n",
       "      <td>6.000000</td>\n",
       "      <td>82.700000</td>\n",
       "    </tr>\n",
       "    <tr>\n",
       "      <th>75%</th>\n",
       "      <td>1.000000</td>\n",
       "      <td>1.000000</td>\n",
       "      <td>473.837500</td>\n",
       "      <td>5.109650</td>\n",
       "      <td>3.000000</td>\n",
       "      <td>7.000000</td>\n",
       "      <td>100.000000</td>\n",
       "    </tr>\n",
       "    <tr>\n",
       "      <th>max</th>\n",
       "      <td>2.000000</td>\n",
       "      <td>2.000000</td>\n",
       "      <td>942.250000</td>\n",
       "      <td>10.129300</td>\n",
       "      <td>16.000000</td>\n",
       "      <td>17.000000</td>\n",
       "      <td>379.300000</td>\n",
       "    </tr>\n",
       "  </tbody>\n",
       "</table>\n",
       "</div>"
      ],
      "text/plain": [
       "            smiles    nb_values        MolWt         LogP          HBD  \\\n",
       "count  5151.000000  5151.000000  5151.000000  5151.000000  5151.000000   \n",
       "mean      1.002912     1.005242   411.290554     4.204393     1.978063   \n",
       "std       0.053890     0.072217   103.392853     1.462652     1.127461   \n",
       "min       1.000000     1.000000   170.171000    -1.980000     0.000000   \n",
       "25%       1.000000     1.000000   339.397000     3.259400     1.000000   \n",
       "50%       1.000000     1.000000   402.534000     4.193700     2.000000   \n",
       "75%       1.000000     1.000000   473.837500     5.109650     3.000000   \n",
       "max       2.000000     2.000000   942.250000    10.129300    16.000000   \n",
       "\n",
       "               HBA         TPSA  \n",
       "count  5151.000000  5151.000000  \n",
       "mean      5.807222    84.345156  \n",
       "std       2.013140    29.098088  \n",
       "min       0.000000     3.880000  \n",
       "25%       4.000000    66.240000  \n",
       "50%       6.000000    82.700000  \n",
       "75%       7.000000   100.000000  \n",
       "max      17.000000   379.300000  "
      ]
     },
     "execution_count": 17,
     "metadata": {},
     "output_type": "execute_result"
    }
   ],
   "source": [
    "df_w_info.describe()"
   ]
  },
  {
   "cell_type": "markdown",
   "metadata": {},
   "source": [
    "The distributions indicate that \n",
    "- some compounds are associated with more than 1 activity value\n",
    "- some compounds have extreme values of Ro5 descriptors.\n",
    "\n",
    "We select only compounds with one unique pIC50 value and use relaxed Ro5 criteria to clean the dataset before use"
   ]
  },
  {
   "cell_type": "code",
   "execution_count": 18,
   "metadata": {},
   "outputs": [],
   "source": [
    "criteria_query = \"\"\"nb_values < 2  and smiles < 2 and MolWt <= 600 and LogP <= 6 and HBD <= 6 and HBA <= 10 and TPSA <= 150\"\"\"\n",
    "df_remaining = df_w_info.query(criteria_query)"
   ]
  },
  {
   "cell_type": "code",
   "execution_count": 19,
   "metadata": {},
   "outputs": [
    {
     "name": "stderr",
     "output_type": "stream",
     "text": [
      "/tmp/ipykernel_10254/2226344757.py:1: SettingWithCopyWarning: \n",
      "A value is trying to be set on a copy of a slice from a DataFrame\n",
      "\n",
      "See the caveats in the documentation: https://pandas.pydata.org/pandas-docs/stable/user_guide/indexing.html#returning-a-view-versus-a-copy\n",
      "  df_remaining.drop(columns=['smiles'], inplace=True)\n"
     ]
    }
   ],
   "source": [
    "df_remaining.drop(columns=['smiles'], inplace=True)\n"
   ]
  },
  {
   "cell_type": "code",
   "execution_count": 20,
   "metadata": {},
   "outputs": [
    {
     "name": "stderr",
     "output_type": "stream",
     "text": [
      "/tmp/ipykernel_10254/4143970750.py:1: SettingWithCopyWarning: \n",
      "A value is trying to be set on a copy of a slice from a DataFrame\n",
      "\n",
      "See the caveats in the documentation: https://pandas.pydata.org/pandas-docs/stable/user_guide/indexing.html#returning-a-view-versus-a-copy\n",
      "  df_remaining.rename(columns={'canonical_smiles' : 'smiles'}, inplace=True)\n"
     ]
    }
   ],
   "source": [
    "df_remaining.rename(columns={'canonical_smiles' : 'smiles'}, inplace=True)"
   ]
  },
  {
   "cell_type": "code",
   "execution_count": 21,
   "metadata": {},
   "outputs": [
    {
     "name": "stdout",
     "output_type": "stream",
     "text": [
      "<class 'pandas.core.frame.DataFrame'>\n",
      "Index: 4431 entries, 4 to 5150\n",
      "Data columns (total 8 columns):\n",
      " #   Column     Non-Null Count  Dtype  \n",
      "---  ------     --------------  -----  \n",
      " 0   smiles     4431 non-null   object \n",
      " 1   nb_values  4431 non-null   int64  \n",
      " 2   values     4431 non-null   object \n",
      " 3   MolWt      4431 non-null   float64\n",
      " 4   LogP       4431 non-null   float64\n",
      " 5   HBD        4431 non-null   float64\n",
      " 6   HBA        4431 non-null   float64\n",
      " 7   TPSA       4431 non-null   float64\n",
      "dtypes: float64(5), int64(1), object(2)\n",
      "memory usage: 311.6+ KB\n"
     ]
    }
   ],
   "source": [
    "df_remaining.info()"
   ]
  },
  {
   "cell_type": "code",
   "execution_count": 22,
   "metadata": {},
   "outputs": [
    {
     "name": "stderr",
     "output_type": "stream",
     "text": [
      "/tmp/ipykernel_10254/70692184.py:3: SettingWithCopyWarning: \n",
      "A value is trying to be set on a copy of a slice from a DataFrame.\n",
      "Try using .loc[row_indexer,col_indexer] = value instead\n",
      "\n",
      "See the caveats in the documentation: https://pandas.pydata.org/pandas-docs/stable/user_guide/indexing.html#returning-a-view-versus-a-copy\n",
      "  df_remaining['value'] = activity_value\n"
     ]
    }
   ],
   "source": [
    "activity_value = [ v[0] for v in df_remaining['values']]\n",
    "\n",
    "df_remaining['value'] = activity_value"
   ]
  },
  {
   "cell_type": "code",
   "execution_count": 23,
   "metadata": {},
   "outputs": [],
   "source": [
    "df_remaining[['smiles', 'value']].to_csv('./egfr_cleaned.csv', index=None)"
   ]
  },
  {
   "cell_type": "code",
   "execution_count": null,
   "metadata": {},
   "outputs": [],
   "source": []
  }
 ],
 "metadata": {
  "kernelspec": {
   "display_name": "Python 3",
   "language": "python",
   "name": "python3"
  },
  "language_info": {
   "codemirror_mode": {
    "name": "ipython",
    "version": 3
   },
   "file_extension": ".py",
   "mimetype": "text/x-python",
   "name": "python",
   "nbconvert_exporter": "python",
   "pygments_lexer": "ipython3",
   "version": "3.12.2"
  }
 },
 "nbformat": 4,
 "nbformat_minor": 4
}
