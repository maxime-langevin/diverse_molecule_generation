{
 "cells": [
  {
   "cell_type": "markdown",
   "metadata": {},
   "source": [
    "### Cleaning of the DRD2 dataset extracted from Excape db. \n"
   ]
  },
  {
   "cell_type": "code",
   "execution_count": 1,
   "metadata": {},
   "outputs": [
    {
     "name": "stderr",
     "output_type": "stream",
     "text": [
      "/cloud-home/FR24516/.magellan/conda/envs/env_preproc_pipeline_14/lib/python3.12/site-packages/tqdm/auto.py:21: TqdmWarning: IProgress not found. Please update jupyter and ipywidgets. See https://ipywidgets.readthedocs.io/en/stable/user_install.html\n",
      "  from .autonotebook import tqdm as notebook_tqdm\n"
     ]
    }
   ],
   "source": [
    "# importing libraries\n",
    "\n",
    "import pandas as pd\n",
    "from rdkit import Chem\n",
    "from rdkit.Chem import PandasTools\n",
    "import useful_rdkit_utils as uru\n",
    "from collections import Counter"
   ]
  },
  {
   "cell_type": "code",
   "execution_count": 2,
   "metadata": {},
   "outputs": [],
   "source": [
    "ro5_calc = uru.Ro5Calculator()"
   ]
  },
  {
   "cell_type": "code",
   "execution_count": 4,
   "metadata": {},
   "outputs": [],
   "source": [
    "# provide path\n",
    "path = './raw/DRD2_actives_from_Excape.csv'\n",
    "df = pd.read_csv(path)"
   ]
  },
  {
   "cell_type": "code",
   "execution_count": 5,
   "metadata": {},
   "outputs": [
    {
     "name": "stdout",
     "output_type": "stream",
     "text": [
      "<class 'pandas.core.frame.DataFrame'>\n",
      "RangeIndex: 8323 entries, 0 to 8322\n",
      "Data columns (total 11 columns):\n",
      " #   Column             Non-Null Count  Dtype  \n",
      "---  ------             --------------  -----  \n",
      " 0   Ambit_InchiKey     8323 non-null   object \n",
      " 1   Original_Entry_ID  8323 non-null   object \n",
      " 2   Entrez_ID          8323 non-null   int64  \n",
      " 3   Activity_Flag      8323 non-null   object \n",
      " 4   pXC50              8323 non-null   float64\n",
      " 5   DB                 8323 non-null   object \n",
      " 6   Original_Assay_ID  8323 non-null   int64  \n",
      " 7   Tax_ID             8323 non-null   int64  \n",
      " 8   Gene_Symbol        8323 non-null   object \n",
      " 9   Ortholog_Group     8323 non-null   int64  \n",
      " 10  SMILES             8323 non-null   object \n",
      "dtypes: float64(1), int64(4), object(6)\n",
      "memory usage: 715.4+ KB\n"
     ]
    }
   ],
   "source": [
    "df.info()"
   ]
  },
  {
   "cell_type": "code",
   "execution_count": 6,
   "metadata": {},
   "outputs": [],
   "source": [
    "df = df[['SMILES','pXC50']]"
   ]
  },
  {
   "cell_type": "code",
   "execution_count": 7,
   "metadata": {},
   "outputs": [],
   "source": [
    "#rename columns\n",
    "df.columns = ['smiles','value']"
   ]
  },
  {
   "cell_type": "code",
   "execution_count": 8,
   "metadata": {},
   "outputs": [
    {
     "data": {
      "text/plain": [
       "smiles    0\n",
       "value     0\n",
       "dtype: int64"
      ]
     },
     "execution_count": 8,
     "metadata": {},
     "output_type": "execute_result"
    }
   ],
   "source": [
    "#check for null values\n",
    "df.isnull().sum()"
   ]
  },
  {
   "cell_type": "code",
   "execution_count": 9,
   "metadata": {},
   "outputs": [],
   "source": [
    "# drop all rows with null values\n",
    "df = df.dropna(axis = 'rows')"
   ]
  },
  {
   "cell_type": "code",
   "execution_count": 10,
   "metadata": {},
   "outputs": [
    {
     "name": "stderr",
     "output_type": "stream",
     "text": [
      "[11:15:19] Explicit valence for atom # 6 N, 5, is greater than permitted\n"
     ]
    }
   ],
   "source": [
    "# generate canonical SMILES to double-check for duplicates\n",
    "\n",
    "canonical_smiles = []\n",
    "for s in df.smiles:\n",
    "    try:\n",
    "        c = Chem.MolToSmiles(Chem.MolFromSmiles(s))\n",
    "        canonical_smiles.append(c)\n",
    "    except:\n",
    "        canonical_smiles.append(None)\n"
   ]
  },
  {
   "cell_type": "code",
   "execution_count": 11,
   "metadata": {},
   "outputs": [],
   "source": [
    "df['canonical_smiles'] = canonical_smiles"
   ]
  },
  {
   "cell_type": "code",
   "execution_count": 12,
   "metadata": {},
   "outputs": [],
   "source": [
    "# Perform the necessary steps before checking\n",
    "\n",
    "df_nuniques = df.groupby('canonical_smiles').agg({'smiles' : 'nunique','value': 'nunique'}).reset_index(drop=False)\n",
    "df_first = df.groupby('canonical_smiles').agg({'smiles' : 'first','value': 'unique' }).reset_index(drop=False)\n"
   ]
  },
  {
   "cell_type": "code",
   "execution_count": 13,
   "metadata": {},
   "outputs": [],
   "source": [
    "df_w_info = df_nuniques.merge(df_first[['canonical_smiles','value']], on='canonical_smiles').rename(columns={'value_x' : 'nb_values', 'value_y' : 'values'})"
   ]
  },
  {
   "cell_type": "code",
   "execution_count": 14,
   "metadata": {},
   "outputs": [
    {
     "name": "stdout",
     "output_type": "stream",
     "text": [
      "<class 'pandas.core.frame.DataFrame'>\n",
      "RangeIndex: 7939 entries, 0 to 7938\n",
      "Data columns (total 4 columns):\n",
      " #   Column            Non-Null Count  Dtype \n",
      "---  ------            --------------  ----- \n",
      " 0   canonical_smiles  7939 non-null   object\n",
      " 1   smiles            7939 non-null   int64 \n",
      " 2   nb_values         7939 non-null   int64 \n",
      " 3   values            7939 non-null   object\n",
      "dtypes: int64(2), object(2)\n",
      "memory usage: 248.2+ KB\n"
     ]
    }
   ],
   "source": [
    "df_w_info.info()"
   ]
  },
  {
   "cell_type": "code",
   "execution_count": 15,
   "metadata": {},
   "outputs": [
    {
     "data": {
      "text/html": [
       "<div>\n",
       "<style scoped>\n",
       "    .dataframe tbody tr th:only-of-type {\n",
       "        vertical-align: middle;\n",
       "    }\n",
       "\n",
       "    .dataframe tbody tr th {\n",
       "        vertical-align: top;\n",
       "    }\n",
       "\n",
       "    .dataframe thead th {\n",
       "        text-align: right;\n",
       "    }\n",
       "</style>\n",
       "<table border=\"1\" class=\"dataframe\">\n",
       "  <thead>\n",
       "    <tr style=\"text-align: right;\">\n",
       "      <th></th>\n",
       "      <th>canonical_smiles</th>\n",
       "      <th>smiles</th>\n",
       "      <th>nb_values</th>\n",
       "      <th>values</th>\n",
       "    </tr>\n",
       "  </thead>\n",
       "  <tbody>\n",
       "    <tr>\n",
       "      <th>0</th>\n",
       "      <td>Brc1ccc(-[n+]2cc[n+](Cc3ccccc3)cc2)c2cc[nH]c12</td>\n",
       "      <td>1</td>\n",
       "      <td>1</td>\n",
       "      <td>[7.91364]</td>\n",
       "    </tr>\n",
       "    <tr>\n",
       "      <th>1</th>\n",
       "      <td>Brc1ccc(N2CCN(Cc3ccccc3)CC2)c2cc[nH]c12</td>\n",
       "      <td>1</td>\n",
       "      <td>2</td>\n",
       "      <td>[7.33, 7.91]</td>\n",
       "    </tr>\n",
       "    <tr>\n",
       "      <th>2</th>\n",
       "      <td>Brc1cccc(N2CCN(Cc3cc4ccccn4n3)CC2)n1</td>\n",
       "      <td>1</td>\n",
       "      <td>1</td>\n",
       "      <td>[6.26]</td>\n",
       "    </tr>\n",
       "    <tr>\n",
       "      <th>3</th>\n",
       "      <td>Brc1cccc(N2CCN(Cc3cnn4ccccc34)CC2)n1</td>\n",
       "      <td>1</td>\n",
       "      <td>1</td>\n",
       "      <td>[6.82391]</td>\n",
       "    </tr>\n",
       "    <tr>\n",
       "      <th>4</th>\n",
       "      <td>Brc1cccc2c1[C@@H]1CCN(CC3CC3)[C@@H]1CC2</td>\n",
       "      <td>1</td>\n",
       "      <td>1</td>\n",
       "      <td>[6.92]</td>\n",
       "    </tr>\n",
       "  </tbody>\n",
       "</table>\n",
       "</div>"
      ],
      "text/plain": [
       "                                 canonical_smiles  smiles  nb_values  \\\n",
       "0  Brc1ccc(-[n+]2cc[n+](Cc3ccccc3)cc2)c2cc[nH]c12       1          1   \n",
       "1         Brc1ccc(N2CCN(Cc3ccccc3)CC2)c2cc[nH]c12       1          2   \n",
       "2            Brc1cccc(N2CCN(Cc3cc4ccccn4n3)CC2)n1       1          1   \n",
       "3            Brc1cccc(N2CCN(Cc3cnn4ccccc34)CC2)n1       1          1   \n",
       "4         Brc1cccc2c1[C@@H]1CCN(CC3CC3)[C@@H]1CC2       1          1   \n",
       "\n",
       "         values  \n",
       "0     [7.91364]  \n",
       "1  [7.33, 7.91]  \n",
       "2        [6.26]  \n",
       "3     [6.82391]  \n",
       "4        [6.92]  "
      ]
     },
     "execution_count": 15,
     "metadata": {},
     "output_type": "execute_result"
    }
   ],
   "source": [
    "df_w_info.head()"
   ]
  },
  {
   "cell_type": "code",
   "execution_count": 17,
   "metadata": {},
   "outputs": [],
   "source": [
    "df_w_info[ro5_calc.names] = df_w_info.canonical_smiles.apply(ro5_calc.calc_smiles).to_list()\n"
   ]
  },
  {
   "cell_type": "code",
   "execution_count": 18,
   "metadata": {},
   "outputs": [
    {
     "data": {
      "text/html": [
       "<div>\n",
       "<style scoped>\n",
       "    .dataframe tbody tr th:only-of-type {\n",
       "        vertical-align: middle;\n",
       "    }\n",
       "\n",
       "    .dataframe tbody tr th {\n",
       "        vertical-align: top;\n",
       "    }\n",
       "\n",
       "    .dataframe thead th {\n",
       "        text-align: right;\n",
       "    }\n",
       "</style>\n",
       "<table border=\"1\" class=\"dataframe\">\n",
       "  <thead>\n",
       "    <tr style=\"text-align: right;\">\n",
       "      <th></th>\n",
       "      <th>smiles</th>\n",
       "      <th>nb_values</th>\n",
       "      <th>MolWt</th>\n",
       "      <th>LogP</th>\n",
       "      <th>HBD</th>\n",
       "      <th>HBA</th>\n",
       "      <th>TPSA</th>\n",
       "    </tr>\n",
       "  </thead>\n",
       "  <tbody>\n",
       "    <tr>\n",
       "      <th>count</th>\n",
       "      <td>7939.000000</td>\n",
       "      <td>7939.000000</td>\n",
       "      <td>7939.000000</td>\n",
       "      <td>7939.000000</td>\n",
       "      <td>7939.000000</td>\n",
       "      <td>7939.000000</td>\n",
       "      <td>7939.000000</td>\n",
       "    </tr>\n",
       "    <tr>\n",
       "      <th>mean</th>\n",
       "      <td>1.012218</td>\n",
       "      <td>1.043330</td>\n",
       "      <td>395.649016</td>\n",
       "      <td>4.067812</td>\n",
       "      <td>0.902381</td>\n",
       "      <td>4.172566</td>\n",
       "      <td>46.263823</td>\n",
       "    </tr>\n",
       "    <tr>\n",
       "      <th>std</th>\n",
       "      <td>0.109865</td>\n",
       "      <td>0.206073</td>\n",
       "      <td>90.479917</td>\n",
       "      <td>1.200677</td>\n",
       "      <td>0.901648</td>\n",
       "      <td>1.790402</td>\n",
       "      <td>23.050839</td>\n",
       "    </tr>\n",
       "    <tr>\n",
       "      <th>min</th>\n",
       "      <td>1.000000</td>\n",
       "      <td>1.000000</td>\n",
       "      <td>173.219000</td>\n",
       "      <td>-1.657900</td>\n",
       "      <td>0.000000</td>\n",
       "      <td>0.000000</td>\n",
       "      <td>3.240000</td>\n",
       "    </tr>\n",
       "    <tr>\n",
       "      <th>25%</th>\n",
       "      <td>1.000000</td>\n",
       "      <td>1.000000</td>\n",
       "      <td>337.423000</td>\n",
       "      <td>3.295950</td>\n",
       "      <td>0.000000</td>\n",
       "      <td>3.000000</td>\n",
       "      <td>29.540000</td>\n",
       "    </tr>\n",
       "    <tr>\n",
       "      <th>50%</th>\n",
       "      <td>1.000000</td>\n",
       "      <td>1.000000</td>\n",
       "      <td>395.240000</td>\n",
       "      <td>4.035900</td>\n",
       "      <td>1.000000</td>\n",
       "      <td>4.000000</td>\n",
       "      <td>44.810000</td>\n",
       "    </tr>\n",
       "    <tr>\n",
       "      <th>75%</th>\n",
       "      <td>1.000000</td>\n",
       "      <td>1.000000</td>\n",
       "      <td>447.667000</td>\n",
       "      <td>4.779630</td>\n",
       "      <td>1.000000</td>\n",
       "      <td>5.000000</td>\n",
       "      <td>61.100000</td>\n",
       "    </tr>\n",
       "    <tr>\n",
       "      <th>max</th>\n",
       "      <td>2.000000</td>\n",
       "      <td>3.000000</td>\n",
       "      <td>997.288000</td>\n",
       "      <td>13.323000</td>\n",
       "      <td>7.000000</td>\n",
       "      <td>18.000000</td>\n",
       "      <td>208.750000</td>\n",
       "    </tr>\n",
       "  </tbody>\n",
       "</table>\n",
       "</div>"
      ],
      "text/plain": [
       "            smiles    nb_values        MolWt         LogP          HBD  \\\n",
       "count  7939.000000  7939.000000  7939.000000  7939.000000  7939.000000   \n",
       "mean      1.012218     1.043330   395.649016     4.067812     0.902381   \n",
       "std       0.109865     0.206073    90.479917     1.200677     0.901648   \n",
       "min       1.000000     1.000000   173.219000    -1.657900     0.000000   \n",
       "25%       1.000000     1.000000   337.423000     3.295950     0.000000   \n",
       "50%       1.000000     1.000000   395.240000     4.035900     1.000000   \n",
       "75%       1.000000     1.000000   447.667000     4.779630     1.000000   \n",
       "max       2.000000     3.000000   997.288000    13.323000     7.000000   \n",
       "\n",
       "               HBA         TPSA  \n",
       "count  7939.000000  7939.000000  \n",
       "mean      4.172566    46.263823  \n",
       "std       1.790402    23.050839  \n",
       "min       0.000000     3.240000  \n",
       "25%       3.000000    29.540000  \n",
       "50%       4.000000    44.810000  \n",
       "75%       5.000000    61.100000  \n",
       "max      18.000000   208.750000  "
      ]
     },
     "execution_count": 18,
     "metadata": {},
     "output_type": "execute_result"
    }
   ],
   "source": [
    "df_w_info.describe()"
   ]
  },
  {
   "cell_type": "markdown",
   "metadata": {},
   "source": [
    "The distributions indicate that \n",
    "- some compounds are associated with more than 1 activity value\n",
    "- some compounds have extreme values of Ro5 descriptors.\n",
    "\n",
    "We select only compounds with one unique pIC50 value and use relaxed Ro5 criteria to clean the dataset before use"
   ]
  },
  {
   "cell_type": "code",
   "execution_count": 19,
   "metadata": {},
   "outputs": [],
   "source": [
    "criteria_query = \"\"\"nb_values < 2  and smiles < 2 and MolWt <= 600 and LogP <= 6 and HBD <= 6 and HBA <= 10 and TPSA <= 150\"\"\"\n",
    "df_remaining = df_w_info.query(criteria_query)"
   ]
  },
  {
   "cell_type": "code",
   "execution_count": 20,
   "metadata": {},
   "outputs": [
    {
     "name": "stderr",
     "output_type": "stream",
     "text": [
      "/tmp/ipykernel_6295/2226344757.py:1: SettingWithCopyWarning: \n",
      "A value is trying to be set on a copy of a slice from a DataFrame\n",
      "\n",
      "See the caveats in the documentation: https://pandas.pydata.org/pandas-docs/stable/user_guide/indexing.html#returning-a-view-versus-a-copy\n",
      "  df_remaining.drop(columns=['smiles'], inplace=True)\n"
     ]
    }
   ],
   "source": [
    "df_remaining.drop(columns=['smiles'], inplace=True)\n"
   ]
  },
  {
   "cell_type": "code",
   "execution_count": 21,
   "metadata": {},
   "outputs": [
    {
     "name": "stderr",
     "output_type": "stream",
     "text": [
      "/tmp/ipykernel_6295/4143970750.py:1: SettingWithCopyWarning: \n",
      "A value is trying to be set on a copy of a slice from a DataFrame\n",
      "\n",
      "See the caveats in the documentation: https://pandas.pydata.org/pandas-docs/stable/user_guide/indexing.html#returning-a-view-versus-a-copy\n",
      "  df_remaining.rename(columns={'canonical_smiles' : 'smiles'}, inplace=True)\n"
     ]
    }
   ],
   "source": [
    "df_remaining.rename(columns={'canonical_smiles' : 'smiles'}, inplace=True)"
   ]
  },
  {
   "cell_type": "code",
   "execution_count": 22,
   "metadata": {},
   "outputs": [
    {
     "name": "stdout",
     "output_type": "stream",
     "text": [
      "<class 'pandas.core.frame.DataFrame'>\n",
      "Index: 7179 entries, 0 to 7938\n",
      "Data columns (total 9 columns):\n",
      " #   Column     Non-Null Count  Dtype  \n",
      "---  ------     --------------  -----  \n",
      " 0   smiles     7179 non-null   object \n",
      " 1   nb_values  7179 non-null   int64  \n",
      " 2   values     7179 non-null   object \n",
      " 3   ROMol      7179 non-null   object \n",
      " 4   MolWt      7179 non-null   float64\n",
      " 5   LogP       7179 non-null   float64\n",
      " 6   HBD        7179 non-null   float64\n",
      " 7   HBA        7179 non-null   float64\n",
      " 8   TPSA       7179 non-null   float64\n",
      "dtypes: float64(5), int64(1), object(3)\n",
      "memory usage: 560.9+ KB\n"
     ]
    }
   ],
   "source": [
    "df_remaining.info()"
   ]
  },
  {
   "cell_type": "code",
   "execution_count": 23,
   "metadata": {},
   "outputs": [
    {
     "name": "stderr",
     "output_type": "stream",
     "text": [
      "/tmp/ipykernel_6295/70692184.py:3: SettingWithCopyWarning: \n",
      "A value is trying to be set on a copy of a slice from a DataFrame.\n",
      "Try using .loc[row_indexer,col_indexer] = value instead\n",
      "\n",
      "See the caveats in the documentation: https://pandas.pydata.org/pandas-docs/stable/user_guide/indexing.html#returning-a-view-versus-a-copy\n",
      "  df_remaining['value'] = activity_value\n"
     ]
    }
   ],
   "source": [
    "activity_value = [ v[0] for v in df_remaining['values']]\n",
    "\n",
    "df_remaining['value'] = activity_value"
   ]
  },
  {
   "cell_type": "code",
   "execution_count": 25,
   "metadata": {},
   "outputs": [],
   "source": [
    "df_remaining[['smiles', 'value']].to_csv('./drd2_cleaned.csv', index=None)"
   ]
  }
 ],
 "metadata": {
  "kernelspec": {
   "display_name": "Python 3",
   "language": "python",
   "name": "python3"
  },
  "language_info": {
   "codemirror_mode": {
    "name": "ipython",
    "version": 3
   },
   "file_extension": ".py",
   "mimetype": "text/x-python",
   "name": "python",
   "nbconvert_exporter": "python",
   "pygments_lexer": "ipython3",
   "version": "3.12.2"
  }
 },
 "nbformat": 4,
 "nbformat_minor": 4
}
